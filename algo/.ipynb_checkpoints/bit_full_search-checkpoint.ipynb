{
 "cells": [
  {
   "cell_type": "markdown",
   "metadata": {},
   "source": [
    "# 2択の組み合わせの列挙のときに使える"
   ]
  },
  {
   "cell_type": "code",
   "execution_count": 36,
   "metadata": {},
   "outputs": [],
   "source": [
    "def bit_full_search_key(item:tuple) -> list:\n",
    "    bags = [[]]\n",
    "    # 2^n(種類数)\n",
    "    for i in range(2**len(item)):\n",
    "        bag = []\n",
    "        print(\"pattern {}: \".format(i), end=\"\")\n",
    "        for j in range(len(item)):\n",
    "            if ((i >> j) & 1):  # 最下位のけたが①であるかチェック\n",
    "                bag.append(item[j][0])  # フラグが立っていたら bag に果物を詰める\n",
    "        bags.append(bag)\n",
    "        print(bag)\n",
    "    return bags"
   ]
  },
  {
   "cell_type": "code",
   "execution_count": 37,
   "metadata": {},
   "outputs": [],
   "source": [
    "def bit_full_search_value(item:tuple) -> list:\n",
    "    bags = [[]]\n",
    "    # 2^n(種類数)\n",
    "    for i in range(2**len(item)):\n",
    "        bag = []\n",
    "        print(\"pattern {}: \".format(i), end=\"\")\n",
    "        for j in range(len(item)):\n",
    "            if ((i >> j) & 1):  # 最下位のけたが①であるかチェック\n",
    "                bag.append(item[j][1])  # フラグが立っていたら bag に果物を詰める\n",
    "        bags.append(bag)\n",
    "        print(bag)\n",
    "    return bags"
   ]
  },
  {
   "cell_type": "code",
   "execution_count": 38,
   "metadata": {},
   "outputs": [],
   "source": [
    "item = ((\"みかん\", 100), (\"りんご\", 200), (\"ぶどう\", 300))"
   ]
  },
  {
   "cell_type": "code",
   "execution_count": 41,
   "metadata": {},
   "outputs": [
    {
     "name": "stdout",
     "output_type": "stream",
     "text": [
      "pattern 0: []\n",
      "pattern 1: ['みかん']\n",
      "pattern 2: ['りんご']\n",
      "pattern 3: ['みかん', 'りんご']\n",
      "pattern 4: ['ぶどう']\n",
      "pattern 5: ['みかん', 'ぶどう']\n",
      "pattern 6: ['りんご', 'ぶどう']\n",
      "pattern 7: ['みかん', 'りんご', 'ぶどう']\n"
     ]
    }
   ],
   "source": [
    "a = bit_full_search_key(item)"
   ]
  },
  {
   "cell_type": "code",
   "execution_count": 71,
   "metadata": {},
   "outputs": [],
   "source": [
    "def bit_full_search_ori(item:tuple) -> list:\n",
    "    bags = [[]]\n",
    "    # 2^n(種類数)\n",
    "    for i in range(2**len(item)):\n",
    "        bag = []\n",
    "        bag_i = []\n",
    "#         print(\"pattern {}: \".format(i), end=\"\")\n",
    "        for j in range(len(item)):\n",
    "            if ((i >> j) & 1):\n",
    "                bag.append(item[j][1])\n",
    "                bag_i.append(item[j][0])\n",
    "        bags.append(bag)\n",
    "        \n",
    "        if sum(bag) <= 300:\n",
    "            print(f\"{sum(bag)}円:{','.join(bag_i)}\")\n",
    "    return bags"
   ]
  },
  {
   "cell_type": "code",
   "execution_count": 72,
   "metadata": {},
   "outputs": [
    {
     "name": "stdout",
     "output_type": "stream",
     "text": [
      "0円:\n",
      "100円:みかん\n",
      "200円:りんご\n",
      "300円:みかん,りんご\n",
      "300円:ぶどう\n"
     ]
    }
   ],
   "source": [
    "a = bit_full_search_ori(item)"
   ]
  },
  {
   "cell_type": "code",
   "execution_count": 82,
   "metadata": {},
   "outputs": [],
   "source": [
    "item = [\"\",\"\",\"\"]\n",
    "\n",
    "def bit_full_search_key(item: list) -> list:\n",
    "    bags = []\n",
    "    # 2^n(種類数)\n",
    "    for i in range(2**len(item)):\n",
    "        bag = []\n",
    "        print(\"pattern {}: \".format(i), end=\"\")\n",
    "        for j in range(len(item)):\n",
    "            if ((i >> j) & 1):  # 最下位のけたが①であるかチェック\n",
    "                bag.append(\"+\")  # フラグが立っていたら bag に果物を詰める\n",
    "            else:\n",
    "                bag.append(\"-\")\n",
    "        bags.append(bag)\n",
    "        print(bag)\n",
    "    return bags\n"
   ]
  },
  {
   "cell_type": "code",
   "execution_count": 93,
   "metadata": {},
   "outputs": [
    {
     "name": "stdout",
     "output_type": "stream",
     "text": [
      "pattern 0: ['-', '-', '-']\n",
      "pattern 1: ['+', '-', '-']\n",
      "pattern 2: ['-', '+', '-']\n",
      "pattern 3: ['+', '+', '-']\n",
      "pattern 4: ['-', '-', '+']\n",
      "pattern 5: ['+', '-', '+']\n",
      "pattern 6: ['-', '+', '+']\n",
      "pattern 7: ['+', '+', '+']\n"
     ]
    },
    {
     "data": {
      "text/plain": [
       "[['-', '-', '-'],\n",
       " ['+', '-', '-'],\n",
       " ['-', '+', '-'],\n",
       " ['+', '+', '-'],\n",
       " ['-', '-', '+'],\n",
       " ['+', '-', '+'],\n",
       " ['-', '+', '+'],\n",
       " ['+', '+', '+']]"
      ]
     },
     "execution_count": 93,
     "metadata": {},
     "output_type": "execute_result"
    }
   ],
   "source": [
    "patt = bit_full_search_key(item)\n",
    "patt"
   ]
  },
  {
   "cell_type": "code",
   "execution_count": 99,
   "metadata": {},
   "outputs": [
    {
     "name": "stdout",
     "output_type": "stream",
     "text": [
      "3\n",
      "4\n",
      "4\n"
     ]
    }
   ],
   "source": [
    "a = \"1222\"\n",
    "\n",
    "for i in range(len(a)-1):\n",
    "    print(int(a[i]) + int(a[i+1]))"
   ]
  },
  {
   "cell_type": "code",
   "execution_count": 118,
   "metadata": {},
   "outputs": [
    {
     "name": "stdin",
     "output_type": "stream",
     "text": [
      " 3242\n"
     ]
    },
    {
     "name": "stdout",
     "output_type": "stream",
     "text": [
      "-5\n",
      "-1\n",
      "3\n",
      "7\n",
      "-1\n",
      "3\n",
      "7\n",
      "11\n",
      "3+2+4-2=7\n",
      "3-2+4+2=7\n"
     ]
    }
   ],
   "source": [
    "def bit_full_search_calc(item: list) -> list:\n",
    "    bags = []\n",
    "    # 2^n(種類数)\n",
    "    for i in range(2**len(item)):\n",
    "        bag = []\n",
    "        for j in range(len(item)):\n",
    "            if ((i >> j) & 1):  # 最下位のけたが①であるかチェック\n",
    "                bag.append(\"+\")  # フラグが立っていたら bag に果物を詰める\n",
    "            else:\n",
    "                bag.append(\"-\")\n",
    "        bags.append(bag)\n",
    "    return bags\n",
    "\n",
    "def calc(calc_item:list, num:str) -> list:\n",
    "    apply_list = []\n",
    "    for i in range(len(calc_item)):\n",
    "        \n",
    "        tmp_num = int(num[0])\n",
    "        tmp_list = [num[0]]\n",
    "        \n",
    "        for j in range(len(calc_item[i])):\n",
    "            if calc_item[i][j] == \"+\":\n",
    "                tmp_num += int(num[j+1])\n",
    "                tmp_list.append(\"+\")\n",
    "                tmp_list.append(num[j+1])\n",
    "            elif calc_item[i][j] == \"-\":\n",
    "                tmp_num -=  int(num[j+1])\n",
    "                tmp_list.append(\"-\")\n",
    "                tmp_list.append(num[j+1])\n",
    "        print(tmp_num)\n",
    "        \n",
    "        if tmp_num == 7:\n",
    "            apply_list.append(tmp_list)\n",
    "        else:\n",
    "            pass\n",
    "    \n",
    "    return apply_list\n",
    "\n",
    "def main():\n",
    "    num = input()\n",
    "    item = [\"\",\"\",\"\"]\n",
    "    patt = bit_full_search_calc(item)\n",
    "    apply_list = calc(patt,num)\n",
    "    for i in range(len(apply_list)):\n",
    "        print(f'{\"\".join(apply_list[i])}=7')\n",
    "        \n",
    "        \n",
    "if __name__ == '__main__':\n",
    "    main()\n",
    "    \n",
    "        "
   ]
  },
  {
   "cell_type": "code",
   "execution_count": null,
   "metadata": {},
   "outputs": [],
   "source": [
    "app"
   ]
  }
 ],
 "metadata": {
  "kernelspec": {
   "display_name": "Python 3.7.2 64-bit",
   "language": "python",
   "name": "python37264bitc6820bcd529848d1aef0990277592879"
  },
  "language_info": {
   "codemirror_mode": {
    "name": "ipython",
    "version": 3
   },
   "file_extension": ".py",
   "mimetype": "text/x-python",
   "name": "python",
   "nbconvert_exporter": "python",
   "pygments_lexer": "ipython3",
   "version": "3.7.2"
  }
 },
 "nbformat": 4,
 "nbformat_minor": 4
}
