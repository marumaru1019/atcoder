{
 "cells": [
  {
   "cell_type": "markdown",
   "metadata": {},
   "source": [
    "# ABC198メモ"
   ]
  },
  {
   "cell_type": "markdown",
   "metadata": {},
   "source": [
    "# A"
   ]
  },
  {
   "cell_type": "code",
   "execution_count": 10,
   "metadata": {},
   "outputs": [],
   "source": [
    "import itertools as itr\n",
    "import math"
   ]
  },
  {
   "cell_type": "code",
   "execution_count": 11,
   "metadata": {},
   "outputs": [],
   "source": [
    "def combinations_count(n, r):\n",
    "    return math.factorial(n) // (math.factorial(n - r) * math.factorial(r))"
   ]
  },
  {
   "cell_type": "code",
   "execution_count": 12,
   "metadata": {},
   "outputs": [
    {
     "data": {
      "text/plain": [
       "2"
      ]
     },
     "execution_count": 12,
     "metadata": {},
     "output_type": "execute_result"
    }
   ],
   "source": [
    "combinations_count(2,1)"
   ]
  },
  {
   "cell_type": "markdown",
   "metadata": {},
   "source": [
    "# B"
   ]
  },
  {
   "cell_type": "code",
   "execution_count": 42,
   "metadata": {},
   "outputs": [
    {
     "name": "stdin",
     "output_type": "stream",
     "text": [
      " 12100\n"
     ]
    },
    {
     "name": "stdout",
     "output_type": "stream",
     "text": [
      "Yes\n"
     ]
    }
   ],
   "source": [
    "n = input()\n",
    "n_ = [n[i] for i in range(len(n))]\n",
    "\n",
    "def judge(n:list):\n",
    "    if n_ == n_[::-1]:\n",
    "        print(\"Yes\")\n",
    "        return \n",
    "\n",
    "    else:\n",
    "        for i in range(9):\n",
    "            n_[0:0] = [\"0\"]\n",
    "            if n_ == n_[::-1]:\n",
    "                print(\"Yes\")\n",
    "                return \n",
    "            else:\n",
    "                pass\n",
    "        print(\"No\")\n",
    "        return \n",
    "\n",
    "judge(n)"
   ]
  },
  {
   "cell_type": "markdown",
   "metadata": {},
   "source": [
    "# C"
   ]
  },
  {
   "cell_type": "code",
   "execution_count": 30,
   "metadata": {},
   "outputs": [],
   "source": [
    "import math\n",
    "\n",
    "r,x,y = map(int,input().split())\n",
    "\n",
    "def calc(x:float,y:float) -> float:\n",
    "    return math.sqrt(x**2 + y**2)\n",
    "\n",
    "r_ = calc(x,y)\n",
    "\n",
    "# 歩く距離がユークリッド距離以下の場合2を出力「\n",
    "if r > r_:\n",
    "    print(2)\n",
    "else:\n",
    "    print(math.ceil(r_/r))"
   ]
  },
  {
   "cell_type": "markdown",
   "metadata": {},
   "source": [
    "# D\n",
    "\n",
    "https://qiita.com/fygar256/items/f71afc9d5a962e716dd1"
   ]
  },
  {
   "cell_type": "code",
   "execution_count": 43,
   "metadata": {},
   "outputs": [
    {
     "ename": "ValueError",
     "evalue": "substring not found",
     "output_type": "error",
     "traceback": [
      "\u001b[0;31m---------------------------------------------------------------------------\u001b[0m",
      "\u001b[0;31mValueError\u001b[0m                                Traceback (most recent call last)",
      "\u001b[0;32m<ipython-input-43-1a01b420096e>\u001b[0m in \u001b[0;36m<module>\u001b[0;34m\u001b[0m\n\u001b[1;32m     81\u001b[0m \u001b[0;32mfor\u001b[0m \u001b[0mi\u001b[0m \u001b[0;32min\u001b[0m \u001b[0mrange\u001b[0m\u001b[0;34m(\u001b[0m\u001b[0mimax\u001b[0m\u001b[0;34m)\u001b[0m\u001b[0;34m:\u001b[0m\u001b[0;34m\u001b[0m\u001b[0;34m\u001b[0m\u001b[0m\n\u001b[1;32m     82\u001b[0m     \u001b[0margv\u001b[0m\u001b[0;34m[\u001b[0m\u001b[0mi\u001b[0m\u001b[0;34m]\u001b[0m \u001b[0;34m=\u001b[0m \u001b[0margv\u001b[0m\u001b[0;34m[\u001b[0m\u001b[0mi\u001b[0m\u001b[0;34m]\u001b[0m\u001b[0;34m.\u001b[0m\u001b[0mupper\u001b[0m\u001b[0;34m(\u001b[0m\u001b[0;34m)\u001b[0m\u001b[0;34m\u001b[0m\u001b[0;34m\u001b[0m\u001b[0m\n\u001b[0;32m---> 83\u001b[0;31m     \u001b[0ml\u001b[0m\u001b[0;34m[\u001b[0m\u001b[0ms\u001b[0m\u001b[0;34m.\u001b[0m\u001b[0mindex\u001b[0m\u001b[0;34m(\u001b[0m\u001b[0margv\u001b[0m\u001b[0;34m[\u001b[0m\u001b[0mi\u001b[0m\u001b[0;34m]\u001b[0m\u001b[0;34m[\u001b[0m\u001b[0;36m0\u001b[0m\u001b[0;34m]\u001b[0m\u001b[0;34m)\u001b[0m\u001b[0;34m]\u001b[0m \u001b[0;34m=\u001b[0m \u001b[0;36m1\u001b[0m\u001b[0;34m\u001b[0m\u001b[0;34m\u001b[0m\u001b[0m\n\u001b[0m\u001b[1;32m     84\u001b[0m     \u001b[0ma\u001b[0m \u001b[0;34m=\u001b[0m \u001b[0margv\u001b[0m\u001b[0;34m[\u001b[0m\u001b[0mi\u001b[0m\u001b[0;34m]\u001b[0m\u001b[0;34m[\u001b[0m\u001b[0;34m-\u001b[0m\u001b[0;36m1\u001b[0m\u001b[0;34m:\u001b[0m\u001b[0;34m:\u001b[0m\u001b[0;34m-\u001b[0m\u001b[0;36m1\u001b[0m\u001b[0;34m]\u001b[0m\u001b[0;34m\u001b[0m\u001b[0;34m\u001b[0m\u001b[0m\n\u001b[1;32m     85\u001b[0m     \u001b[0;32mfor\u001b[0m \u001b[0mj\u001b[0m \u001b[0;32min\u001b[0m \u001b[0mrange\u001b[0m\u001b[0;34m(\u001b[0m\u001b[0mlen\u001b[0m\u001b[0;34m(\u001b[0m\u001b[0ma\u001b[0m\u001b[0;34m)\u001b[0m\u001b[0;34m)\u001b[0m\u001b[0;34m:\u001b[0m\u001b[0;34m\u001b[0m\u001b[0;34m\u001b[0m\u001b[0m\n",
      "\u001b[0;31mValueError\u001b[0m: substring not found"
     ]
    }
   ],
   "source": [
    "#!/usr/bin/python3\n",
    "\n",
    "N = 128\n",
    "s = \"0123456789ABCDEFGHIJKLMNOPQRTSUVWXYZ\"\n",
    "word = [['' for i in range(N)] for j in range(128)]\n",
    "digit = [0 for i in range(len(s))]\n",
    "l = [0 for i in range(len(s))]\n",
    "ok = [False for i in range(10)]\n",
    "ii = 0\n",
    "jj = 0\n",
    "carry = 0\n",
    "solution = 0\n",
    "\n",
    "\n",
    "def found():\n",
    "    global solution\n",
    "    solution += 1\n",
    "    # print(\"\\n解 %d\" % solution)\n",
    "    if solution == 1:\n",
    "        for i in range(imax):\n",
    "            # if (i == imax-1):\n",
    "            #     print(\"-\"*jmax)\n",
    "            for j in range(jmax):\n",
    "                k = jmax-1-j\n",
    "                c = word[i][k]\n",
    "                if (c == ''):\n",
    "                    # print(\" \", end=\"\")\n",
    "                    pass\n",
    "                else:\n",
    "                    print(\"%d\" % digit[s.index(c)], end='')\n",
    "            print(\"\")\n",
    "    else:\n",
    "        pass\n",
    "\n",
    "\n",
    "def tr(sum):\n",
    "    global ii, jj\n",
    "    w = word[ii][jj]\n",
    "    c = 0 if w == '' else s.index(w)\n",
    "    if (ii < imax-1):\n",
    "        ii += 1\n",
    "        d = digit[c]\n",
    "        if (d < 0):\n",
    "            d = l[c]\n",
    "            while(d <= 9):\n",
    "                if (ok[d]):\n",
    "                    digit[c] = d\n",
    "                    ok[d] = False\n",
    "                    tr(sum+d)\n",
    "                    ok[d] = True\n",
    "                d += 1\n",
    "            digit[c] = -1\n",
    "        else:\n",
    "            tr(sum+d)\n",
    "        ii -= 1\n",
    "    else:\n",
    "        jj += 1\n",
    "        ii = 0\n",
    "        carry, d = divmod(sum, 10)\n",
    "        if (digit[c] == d):\n",
    "            if (jj < jmax):\n",
    "                tr(carry)\n",
    "            elif (carry == 0):\n",
    "                found()\n",
    "        else:\n",
    "            if (digit[c] < 0 and ok[d] and d >= l[c]):\n",
    "                digit[c] = d\n",
    "                ok[d] = False\n",
    "                if (jj < jmax):\n",
    "                    tr(carry)\n",
    "                elif (carry == 0):\n",
    "                    found()\n",
    "                digit[c] = -1\n",
    "                ok[d] = True\n",
    "        jj -= 1\n",
    "        ii = imax-1\n",
    "\n",
    "a = input()\n",
    "b = input()\n",
    "c = input()\n",
    "\n",
    "argv = [a,b,c]\n",
    "jmax = max(map(len, argv))\n",
    "\n",
    "imax = len(argv)\n",
    "\n",
    "\n",
    "for i in range(imax):\n",
    "    argv[i] = argv[i].upper()\n",
    "    l[s.index(argv[i][0])] = 1\n",
    "    a = argv[i][-1::-1]\n",
    "    for j in range(len(a)):\n",
    "        word[i][j] = a[j]\n",
    "        c = word[i][j]\n",
    "        if (c.isalpha()):\n",
    "            digit[s.index(c)] = -1\n",
    "        # elif (c.isdigit()):\n",
    "        #     digit[s.index(c)] = int(c)\n",
    "        else:\n",
    "            print(\"Invalid parameter.\")\n",
    "            exit(1)\n",
    "\n",
    "for i in range(10):\n",
    "    ok[i] = True\n",
    "tr(0)\n",
    "if (solution == 0):\n",
    "    print(\"UNSOLVABLE\")\n",
    "exit(0)\n"
   ]
  },
  {
   "cell_type": "code",
   "execution_count": null,
   "metadata": {},
   "outputs": [],
   "source": []
  }
 ],
 "metadata": {
  "kernelspec": {
   "display_name": "Python 3.7.2 64-bit",
   "language": "python",
   "name": "python37264bitc6820bcd529848d1aef0990277592879"
  },
  "language_info": {
   "codemirror_mode": {
    "name": "ipython",
    "version": 3
   },
   "file_extension": ".py",
   "mimetype": "text/x-python",
   "name": "python",
   "nbconvert_exporter": "python",
   "pygments_lexer": "ipython3",
   "version": "3.7.2"
  }
 },
 "nbformat": 4,
 "nbformat_minor": 4
}
