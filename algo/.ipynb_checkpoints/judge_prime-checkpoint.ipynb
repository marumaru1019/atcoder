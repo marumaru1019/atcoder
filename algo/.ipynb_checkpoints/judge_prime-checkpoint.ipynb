{
 "cells": [
  {
   "cell_type": "markdown",
   "metadata": {},
   "source": [
    "# 素数判定\n",
    "\n",
    "試し割り法を使って解く\n",
    "\n",
    "判定したい数をnとすると\n",
    "\n",
    "math.ceil(√n)まででよい"
   ]
  },
  {
   "cell_type": "code",
   "execution_count": 21,
   "metadata": {},
   "outputs": [],
   "source": [
    "import math"
   ]
  },
  {
   "cell_type": "code",
   "execution_count": 25,
   "metadata": {},
   "outputs": [],
   "source": [
    "def judge_prime(target:int) -> bool:\n",
    "    max_div = math.ceil(math.sqrt(target))\n",
    "    \n",
    "    div_list = [i+1 for i in range(max_div)]\n",
    "    \n",
    "    # 1が入ってしまうため[1:]とする\n",
    "    for div in div_list[1:]:\n",
    "        if target % div == 0:\n",
    "            print(f\"{div}:{target}\")\n",
    "            return False\n",
    "    \n",
    "    return True"
   ]
  },
  {
   "cell_type": "code",
   "execution_count": 27,
   "metadata": {},
   "outputs": [
    {
     "name": "stdin",
     "output_type": "stream",
     "text": [
      " 2\n"
     ]
    },
    {
     "name": "stdout",
     "output_type": "stream",
     "text": [
      "2:2\n",
      "3\n"
     ]
    }
   ],
   "source": [
    "def prime_loop(n:int) -> int:\n",
    "    \n",
    "    if n > 10**5 or n < 2:\n",
    "        return 0\n",
    "    \n",
    "    first_num = n\n",
    "    \n",
    "    while True:\n",
    "        if judge_prime(first_num):\n",
    "            return first_num\n",
    "        else:\n",
    "            first_num += 1\n",
    "\n",
    "def main():\n",
    "    n = int(input())\n",
    "    nn = prime_loop(n)\n",
    "    print(nn)\n",
    "    \n",
    "if __name__ == '__main__':\n",
    "    main()"
   ]
  },
  {
   "cell_type": "code",
   "execution_count": null,
   "metadata": {},
   "outputs": [],
   "source": []
  }
 ],
 "metadata": {
  "kernelspec": {
   "display_name": "Python 3.7.2 64-bit",
   "language": "python",
   "name": "python37264bitc6820bcd529848d1aef0990277592879"
  },
  "language_info": {
   "codemirror_mode": {
    "name": "ipython",
    "version": 3
   },
   "file_extension": ".py",
   "mimetype": "text/x-python",
   "name": "python",
   "nbconvert_exporter": "python",
   "pygments_lexer": "ipython3",
   "version": "3.7.2"
  }
 },
 "nbformat": 4,
 "nbformat_minor": 4
}
