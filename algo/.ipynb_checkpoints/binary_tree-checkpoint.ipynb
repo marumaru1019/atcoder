{
 "cells": [
  {
   "cell_type": "markdown",
   "metadata": {},
   "source": [
    "# 二分探索\n",
    "\n",
    "bisect 二分木探索を行うライブラリ"
   ]
  },
  {
   "cell_type": "code",
   "execution_count": 1,
   "metadata": {},
   "outputs": [],
   "source": [
    "import bisect"
   ]
  },
  {
   "cell_type": "code",
   "execution_count": 10,
   "metadata": {},
   "outputs": [
    {
     "name": "stdout",
     "output_type": "stream",
     "text": [
      "2\n"
     ]
    }
   ],
   "source": [
    "A = [1, 2, 3, 3, 3, 0, 0, 0, 0, 0, 0]\n",
    "index = bisect.bisect_left(A, 3, 2, 3)\n",
    "print(index)# 2"
   ]
  },
  {
   "cell_type": "code",
   "execution_count": 43,
   "metadata": {},
   "outputs": [
    {
     "ename": "SyntaxError",
     "evalue": "invalid syntax (<ipython-input-43-6e5f8d1292fe>, line 30)",
     "output_type": "error",
     "traceback": [
      "\u001b[0;36m  File \u001b[0;32m\"<ipython-input-43-6e5f8d1292fe>\"\u001b[0;36m, line \u001b[0;32m30\u001b[0m\n\u001b[0;31m    return 1000000000 1000000000 100\u001b[0m\n\u001b[0m                               ^\u001b[0m\n\u001b[0;31mSyntaxError\u001b[0m\u001b[0;31m:\u001b[0m invalid syntax\n"
     ]
    }
   ],
   "source": [
    "import math\n",
    "\n",
    "\n",
    "def binary_search(min_n: int, max_n: int, a: int, b: int, x: int) -> int:\n",
    "    def val_fun(a: int, b: int, n: int) -> int:\n",
    "        return a * n + b * len(str(n))\n",
    "\n",
    "    # 最小値と最大値が1未満になるように調整\n",
    "    while max_n-min_n > 1:\n",
    "\n",
    "        # 最小値と最大値の半分 最小の整数を求めるので切り捨て\n",
    "        n = (min_n + max_n)//2\n",
    "\n",
    "        # A×N + B×len(N) が x以下で最低となるようなNを見つける\n",
    "        val = val_fun(a, b, n)\n",
    "\n",
    "        # 購入できる場合はnを最小値に更新する\n",
    "        if val <= x:\n",
    "            min_n = n\n",
    "\n",
    "        # 購入できない場合はnを最大値とする\n",
    "        else:\n",
    "            max_n = n\n",
    "\n",
    "    return min_n\n",
    "\n",
    "\n",
    "def main():\n",
    "    list_a = list(map(int, input().split()))\n",
    "    a, b, x = list_a[0], list_a[1], list_a[2]\n",
    "    n = binary_search(0, 10**9+1, a, b, x)\n",
    "    print(n)\n",
    "\n",
    "\n",
    "if __name__ == '__main__':\n",
    "    main()\n"
   ]
  },
  {
   "cell_type": "code",
   "execution_count": null,
   "metadata": {},
   "outputs": [],
   "source": []
  }
 ],
 "metadata": {
  "kernelspec": {
   "display_name": "Python 3.7.2 64-bit",
   "language": "python",
   "name": "python37264bitc6820bcd529848d1aef0990277592879"
  },
  "language_info": {
   "codemirror_mode": {
    "name": "ipython",
    "version": 3
   },
   "file_extension": ".py",
   "mimetype": "text/x-python",
   "name": "python",
   "nbconvert_exporter": "python",
   "pygments_lexer": "ipython3",
   "version": "3.7.2"
  }
 },
 "nbformat": 4,
 "nbformat_minor": 4
}
