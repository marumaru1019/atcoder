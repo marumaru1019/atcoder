{
 "cells": [
  {
   "cell_type": "markdown",
   "metadata": {},
   "source": [
    "# 順列全探索"
   ]
  },
  {
   "cell_type": "code",
   "execution_count": 2,
   "metadata": {},
   "outputs": [],
   "source": [
    "import itertools as itr"
   ]
  },
  {
   "cell_type": "code",
   "execution_count": 6,
   "metadata": {},
   "outputs": [
    {
     "data": {
      "text/plain": [
       "[1, 2, 3]"
      ]
     },
     "execution_count": 6,
     "metadata": {},
     "output_type": "execute_result"
    }
   ],
   "source": [
    "n = 3\n",
    "n_ = [i+1 for i in range(n)]\n",
    "n_"
   ]
  },
  {
   "cell_type": "code",
   "execution_count": 39,
   "metadata": {},
   "outputs": [
    {
     "name": "stdin",
     "output_type": "stream",
     "text": [
      " 1 2 3\n"
     ]
    },
    {
     "name": "stdout",
     "output_type": "stream",
     "text": [
      "[1]\n"
     ]
    },
    {
     "name": "stdin",
     "output_type": "stream",
     "text": [
      " 1 2 3\n"
     ]
    },
    {
     "name": "stdout",
     "output_type": "stream",
     "text": [
      "[1, 1]\n",
      "0\n"
     ]
    }
   ],
   "source": [
    "calc_ = []\n",
    "for i in range(2):\n",
    "    \n",
    "    num_tup = tuple(map(int,input().split()))\n",
    "    tmp_num = 0\n",
    "    \n",
    "    for j in range(len(nnn)):\n",
    "        \n",
    "        if nnn[j] == num_tup:\n",
    "            tmp_num = j+1\n",
    "            calc_.append(tmp_num)\n",
    "    print(calc_)\n",
    "print(abs(calc_[0]-calc_[1]))"
   ]
  },
  {
   "cell_type": "markdown",
   "metadata": {},
   "source": [
    "# ABC150 C"
   ]
  },
  {
   "cell_type": "code",
   "execution_count": 41,
   "metadata": {},
   "outputs": [
    {
     "name": "stdin",
     "output_type": "stream",
     "text": [
      " 3\n",
      " 3 2 1\n",
      " 2 1 3\n"
     ]
    },
    {
     "name": "stdout",
     "output_type": "stream",
     "text": [
      "3\n"
     ]
    }
   ],
   "source": [
    "def zentan(l:list)->list:\n",
    "    nnn = list(itr.permutations(l))\n",
    "    return nnn\n",
    "\n",
    "def calc(nnn:list)->None:\n",
    "    calc_ = []\n",
    "    for i in range(2):\n",
    "\n",
    "        num_tup = tuple(map(int,input().split()))\n",
    "        tmp_num = 0\n",
    "\n",
    "        for j in range(len(nnn)):\n",
    "\n",
    "            if nnn[j] == num_tup:\n",
    "                tmp_num = j+1\n",
    "                calc_.append(tmp_num)\n",
    "    print(abs(calc_[0]-calc_[1]))\n",
    "\n",
    "def main():\n",
    "    n = int(input())\n",
    "    n_ = [i+1 for i in range(n)]\n",
    "    nnn = zentan(n_)\n",
    "    calc(nnn)\n",
    "\n",
    "if __name__ == '__main__':\n",
    "    main()"
   ]
  },
  {
   "cell_type": "code",
   "execution_count": null,
   "metadata": {},
   "outputs": [],
   "source": []
  }
 ],
 "metadata": {
  "kernelspec": {
   "display_name": "Python 3.7.2 64-bit",
   "language": "python",
   "name": "python37264bitc6820bcd529848d1aef0990277592879"
  },
  "language_info": {
   "codemirror_mode": {
    "name": "ipython",
    "version": 3
   },
   "file_extension": ".py",
   "mimetype": "text/x-python",
   "name": "python",
   "nbconvert_exporter": "python",
   "pygments_lexer": "ipython3",
   "version": "3.7.2"
  }
 },
 "nbformat": 4,
 "nbformat_minor": 4
}
